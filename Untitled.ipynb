{
 "cells": [
  {
   "cell_type": "code",
   "execution_count": 5,
   "metadata": {
    "collapsed": true
   },
   "outputs": [],
   "source": [
    "from turtle import *\n",
    "from math import *\n",
    "colormode(255)\n",
    "bgcolor(65, 64, 66)\n",
    "def spiral_function(num, angle, r, g, b, rr, gg, bb):\n",
    "    turn_angle = 360/num\n",
    "    size = sin(radians(turn_angle/2))*10*2\n",
    "    pencolor(r, g, b)\n",
    "    while True:\n",
    "        tup = pencolor()\n",
    "        width(2)\n",
    "        pencolor(color_rotate(tup[0], tup[1], tup[2],rr, gg, bb))\n",
    "        draw_shape(size, num, turn_angle)\n",
    "        rt(angle)\n",
    "        size *= 1.05\n",
    "\n",
    "\n",
    "def draw_shape(size, num, turn_angle):\n",
    "    count = 0\n",
    "    speed(10)\n",
    "    while count < num:\n",
    "        fd(size)\n",
    "        rt(turn_angle)\n",
    "        count += 1\n",
    "\n",
    "\n",
    "\n",
    "def color_rotate(r, g, b, rr, gg, bb):\n",
    "    def check_color(x, xx):\n",
    "        if x < xx:\n",
    "            x += 2\n",
    "            if x > xx:\n",
    "                x = int(xx)\n",
    "        else:\n",
    "            x -= 2\n",
    "            if x < xx:\n",
    "                x = int(xx)\n",
    "        return int(x)\n",
    "    r = check_color(r, rr)\n",
    "    g = check_color(g, gg)\n",
    "    b = check_color(b, bb)\n",
    "    return (r, g, b)\n"
   ]
  },
  {
   "cell_type": "code",
   "execution_count": null,
   "metadata": {},
   "outputs": [],
   "source": [
    "spiral_function(6, 15, 227, 66, 52, 255, 232, 131)"
   ]
  }
 ],
 "metadata": {
  "kernelspec": {
   "display_name": "Python 3",
   "language": "python",
   "name": "python3"
  },
  "language_info": {
   "codemirror_mode": {
    "name": "ipython",
    "version": 3
   },
   "file_extension": ".py",
   "mimetype": "text/x-python",
   "name": "python",
   "nbconvert_exporter": "python",
   "pygments_lexer": "ipython3",
   "version": "3.5.3"
  }
 },
 "nbformat": 4,
 "nbformat_minor": 2
}
